{
 "cells": [
  {
   "cell_type": "code",
   "execution_count": 2,
   "id": "1b3ac79e-9b3b-414e-b94d-3d7943020ec4",
   "metadata": {},
   "outputs": [
    {
     "name": "stdout",
     "output_type": "stream",
     "text": [
      "Hello, Python World!\n"
     ]
    }
   ],
   "source": [
    "print(\"Hello, Python World!\")"
   ]
  },
  {
   "cell_type": "code",
   "execution_count": 8,
   "id": "238ea889-c4da-4806-a398-eda19778affd",
   "metadata": {},
   "outputs": [
    {
     "name": "stdout",
     "output_type": "stream",
     "text": [
      "Hello, Python World!\n"
     ]
    }
   ],
   "source": [
    "%run main.py"
   ]
  },
  {
   "cell_type": "code",
   "execution_count": 4,
   "id": "82f8f84c-a34c-4b11-a4be-1bec6ef93090",
   "metadata": {},
   "outputs": [],
   "source": [
    "x = 5\n",
    "X = 4"
   ]
  },
  {
   "cell_type": "code",
   "execution_count": 5,
   "id": "d9192b15-0f51-446a-b951-0f8cb08c582c",
   "metadata": {},
   "outputs": [
    {
     "data": {
      "text/plain": [
       "4"
      ]
     },
     "execution_count": 5,
     "metadata": {},
     "output_type": "execute_result"
    }
   ],
   "source": [
    "X"
   ]
  },
  {
   "cell_type": "code",
   "execution_count": 9,
   "id": "41f01467-8581-4b97-9af3-96c5bf0f5cce",
   "metadata": {},
   "outputs": [
    {
     "name": "stdout",
     "output_type": "stream",
     "text": [
      "Hello\n"
     ]
    },
    {
     "data": {
      "text/plain": [
       "'\\nThis is a multi-line comment or docstring.\\nIt can span multiple lines.\\nUseful for documentation.\\n'"
      ]
     },
     "execution_count": 9,
     "metadata": {},
     "output_type": "execute_result"
    }
   ],
   "source": [
    "# This is a single-line comment\n",
    "\n",
    "print(\"Hello\")  # This is an inline comment\n",
    "\n",
    "'''\n",
    "This is a multi-line comment or docstring.\n",
    "It can span multiple lines.\n",
    "Useful for documentation.\n",
    "'''"
   ]
  },
  {
   "cell_type": "code",
   "execution_count": 10,
   "id": "59851e2b-16d2-4c69-9df7-65aa30dbec02",
   "metadata": {},
   "outputs": [
    {
     "data": {
      "text/plain": [
       "int"
      ]
     },
     "execution_count": 10,
     "metadata": {},
     "output_type": "execute_result"
    }
   ],
   "source": [
    "type(X)"
   ]
  },
  {
   "cell_type": "code",
   "execution_count": 11,
   "id": "353a3601-c5c4-40e0-951d-fd741947ff1e",
   "metadata": {},
   "outputs": [],
   "source": [
    "_isactive = True"
   ]
  },
  {
   "cell_type": "code",
   "execution_count": 13,
   "id": "cf3c3bf1-e6fa-4021-8339-f07e434bd838",
   "metadata": {},
   "outputs": [
    {
     "name": "stdout",
     "output_type": "stream",
     "text": [
      "1\n"
     ]
    }
   ],
   "source": [
    "if _isactive:\n",
    "    print('1')"
   ]
  },
  {
   "cell_type": "code",
   "execution_count": null,
   "id": "0b6895b3-9efe-4916-ad98-d49dec42fc7a",
   "metadata": {},
   "outputs": [],
   "source": [
    "# global variable\n",
    "x = 10\n",
    "\n"
   ]
  },
  {
   "cell_type": "code",
   "execution_count": 14,
   "id": "ebc08c82-aed6-4aad-bc6f-ac2407b467c0",
   "metadata": {},
   "outputs": [
    {
     "name": "stdout",
     "output_type": "stream",
     "text": [
      "{'__name__': '__main__', '__doc__': 'Module created for script run in IPython', '__package__': None, '__loader__': None, '__spec__': None, '__builtin__': <module 'builtins' (built-in)>, '__builtins__': <module 'builtins' (built-in)>, '_ih': ['', 'print(\"Hello, Python World!\")', 'print(\"Hello, Python World!\")', \"get_ipython().run_line_magic('run', 'main.py')\", 'x = 5\\nX = 4', 'X', \"get_ipython().run_line_magic('run', 'Main.py')\", \"get_ipython().run_line_magic('run', 'MOin.py')\", \"get_ipython().run_line_magic('run', 'mAin.py')\", '# This is a single-line comment\\n\\nprint(\"Hello\")  # This is an inline comment\\n\\n\\'\\'\\'\\nThis is a multi-line comment or docstring.\\nIt can span multiple lines.\\nUseful for documentation.\\n\\'\\'\\'', 'type(X)', '_isactive = True', \"if _isactive then print('1')\", \"if _isactive:\\n    print('1')\", 'print(globals())'], '_oh': {5: 4, 9: '\\nThis is a multi-line comment or docstring.\\nIt can span multiple lines.\\nUseful for documentation.\\n', 10: <class 'int'>}, '_dh': [WindowsPath('C:/Users/Iverson/Desktop/Training')], 'In': ['', 'print(\"Hello, Python World!\")', 'print(\"Hello, Python World!\")', \"get_ipython().run_line_magic('run', 'main.py')\", 'x = 5\\nX = 4', 'X', \"get_ipython().run_line_magic('run', 'Main.py')\", \"get_ipython().run_line_magic('run', 'MOin.py')\", \"get_ipython().run_line_magic('run', 'mAin.py')\", '# This is a single-line comment\\n\\nprint(\"Hello\")  # This is an inline comment\\n\\n\\'\\'\\'\\nThis is a multi-line comment or docstring.\\nIt can span multiple lines.\\nUseful for documentation.\\n\\'\\'\\'', 'type(X)', '_isactive = True', \"if _isactive then print('1')\", \"if _isactive:\\n    print('1')\", 'print(globals())'], 'Out': {5: 4, 9: '\\nThis is a multi-line comment or docstring.\\nIt can span multiple lines.\\nUseful for documentation.\\n', 10: <class 'int'>}, 'get_ipython': <bound method InteractiveShell.get_ipython of <ipykernel.zmqshell.ZMQInteractiveShell object at 0x000001C598D36BA0>>, 'exit': <IPython.core.autocall.ZMQExitAutocall object at 0x000001C598DD4440>, 'quit': <IPython.core.autocall.ZMQExitAutocall object at 0x000001C598DD4440>, 'open': <function open at 0x000001C596AE5C60>, '_': <class 'int'>, '__': '\\nThis is a multi-line comment or docstring.\\nIt can span multiple lines.\\nUseful for documentation.\\n', '___': 4, '__session__': 'C:\\\\Users\\\\Iverson\\\\Desktop\\\\Training\\\\Untitled.ipynb', '_i': \"if _isactive:\\n    print('1')\", '_ii': \"if _isactive then print('1')\", '_iii': '_isactive = True', '_i1': 'print(\"Hello, Python World!\")', '_i2': '    print(\"Hello, Python World!\")', '_i3': '%run main.py', '__nonzero__': <function InteractiveShell.new_main_mod.<locals>.<lambda> at 0x000001C599CE1C60>, '_i4': 'x = 5\\nX = 4', 'x': 5, 'X': 4, '_i5': 'X', '_5': 4, '_i6': '%run Main.py', '_i7': '%run MOin.py', '_i8': '%run mAin.py', '_i9': '# This is a single-line comment\\n\\nprint(\"Hello\")  # This is an inline comment\\n\\n\\'\\'\\'\\nThis is a multi-line comment or docstring.\\nIt can span multiple lines.\\nUseful for documentation.\\n\\'\\'\\'', '_9': '\\nThis is a multi-line comment or docstring.\\nIt can span multiple lines.\\nUseful for documentation.\\n', '_i10': 'type(X)', '_10': <class 'int'>, '_i11': '_isactive = True', '_isactive': True, '_i12': \"if _isactive then print('1')\", '_i13': \"if _isactive:\\n    print('1')\", '_i14': 'print(globals())'}\n"
     ]
    }
   ],
   "source": [
    "print(globals())"
   ]
  },
  {
   "cell_type": "code",
   "execution_count": 27,
   "id": "961b57ae-e0df-4e3f-8f59-ff2cadb7dad1",
   "metadata": {},
   "outputs": [
    {
     "name": "stdout",
     "output_type": "stream",
     "text": [
      "3 4.2 10\n"
     ]
    }
   ],
   "source": [
    "x = int(3.7)          # Converts float 3.7 to integer 3\n",
    "y = float(\"4.2\")     # Converts string to float\n",
    "z = str(10)           # Converts integer to string\n",
    "print(x, y, z)"
   ]
  },
  {
   "cell_type": "code",
   "execution_count": 15,
   "id": "8fc96f5e-d2f7-4f5e-88e3-1c9fb21a8f2e",
   "metadata": {},
   "outputs": [],
   "source": [
    "y = float(\"4.2\")"
   ]
  },
  {
   "cell_type": "code",
   "execution_count": 16,
   "id": "5dbca486-37d3-4322-a48b-11af04de1b22",
   "metadata": {},
   "outputs": [
    {
     "data": {
      "text/plain": [
       "4.2"
      ]
     },
     "execution_count": 16,
     "metadata": {},
     "output_type": "execute_result"
    }
   ],
   "source": [
    "y"
   ]
  },
  {
   "cell_type": "code",
   "execution_count": 17,
   "id": "e61eb4d0-da26-4e18-b183-1a1d43aaa668",
   "metadata": {},
   "outputs": [],
   "source": [
    "z = 10"
   ]
  },
  {
   "cell_type": "code",
   "execution_count": 18,
   "id": "3715afb9-55c9-4b5f-aa73-61cff49ad811",
   "metadata": {},
   "outputs": [
    {
     "data": {
      "text/plain": [
       "int"
      ]
     },
     "execution_count": 18,
     "metadata": {},
     "output_type": "execute_result"
    }
   ],
   "source": [
    "type(z)"
   ]
  },
  {
   "cell_type": "code",
   "execution_count": 20,
   "id": "935c2a65-6c4d-4440-927f-60050381804b",
   "metadata": {},
   "outputs": [],
   "source": [
    "z = str(z)"
   ]
  },
  {
   "cell_type": "code",
   "execution_count": 21,
   "id": "c936ebbc-8620-4d43-97da-188cb2fd4fff",
   "metadata": {},
   "outputs": [
    {
     "data": {
      "text/plain": [
       "'10'"
      ]
     },
     "execution_count": 21,
     "metadata": {},
     "output_type": "execute_result"
    }
   ],
   "source": [
    "z"
   ]
  },
  {
   "cell_type": "code",
   "execution_count": 25,
   "id": "17d27b63-a079-4612-8af2-9cce46e9378e",
   "metadata": {},
   "outputs": [
    {
     "data": {
      "text/plain": [
       "'4.210'"
      ]
     },
     "execution_count": 25,
     "metadata": {},
     "output_type": "execute_result"
    }
   ],
   "source": [
    "# concat string\n",
    "str(y) + z"
   ]
  },
  {
   "cell_type": "code",
   "execution_count": 23,
   "id": "c80caaec-2608-4d68-a2f5-f04c08b09d70",
   "metadata": {},
   "outputs": [],
   "source": [
    "name = 'abc'\n",
    "age = 30"
   ]
  },
  {
   "cell_type": "code",
   "execution_count": 24,
   "id": "215ad992-b291-4b2c-afe3-7653660eeb4a",
   "metadata": {},
   "outputs": [
    {
     "data": {
      "text/plain": [
       "'abc 30'"
      ]
     },
     "execution_count": 24,
     "metadata": {},
     "output_type": "execute_result"
    }
   ],
   "source": [
    "# concat string\n",
    "name + ' ' + str(age)"
   ]
  },
  {
   "cell_type": "code",
   "execution_count": 28,
   "id": "0564661d-5a16-4266-bd46-2422f14bbe6a",
   "metadata": {},
   "outputs": [
    {
     "data": {
      "text/plain": [
       "3"
      ]
     },
     "execution_count": 28,
     "metadata": {},
     "output_type": "execute_result"
    }
   ],
   "source": [
    "x"
   ]
  },
  {
   "cell_type": "code",
   "execution_count": 29,
   "id": "ba899561-ed94-49ca-95b8-f011d169fff6",
   "metadata": {},
   "outputs": [],
   "source": [
    "x = 66\n",
    "y = 456"
   ]
  },
  {
   "cell_type": "code",
   "execution_count": 30,
   "id": "6d9af0c0-f69c-4dba-a4d5-f1752ff3bf75",
   "metadata": {},
   "outputs": [
    {
     "data": {
      "text/plain": [
       "False"
      ]
     },
     "execution_count": 30,
     "metadata": {},
     "output_type": "execute_result"
    }
   ],
   "source": [
    "x > y"
   ]
  },
  {
   "cell_type": "code",
   "execution_count": 31,
   "id": "25cc8d4c-0b8d-4b16-ab1b-0321ff2e03cf",
   "metadata": {},
   "outputs": [
    {
     "data": {
      "text/plain": [
       "False"
      ]
     },
     "execution_count": 31,
     "metadata": {},
     "output_type": "execute_result"
    }
   ],
   "source": [
    "x == y"
   ]
  },
  {
   "cell_type": "code",
   "execution_count": 33,
   "id": "1644ba4f-417a-46ed-a474-91f954734bbc",
   "metadata": {},
   "outputs": [
    {
     "data": {
      "text/plain": [
       "True"
      ]
     },
     "execution_count": 33,
     "metadata": {},
     "output_type": "execute_result"
    }
   ],
   "source": [
    "x > y or x > 0"
   ]
  },
  {
   "cell_type": "code",
   "execution_count": 37,
   "id": "5d560279-97ae-4588-b085-799f31ec9999",
   "metadata": {},
   "outputs": [
    {
     "data": {
      "text/plain": [
       "True"
      ]
     },
     "execution_count": 37,
     "metadata": {},
     "output_type": "execute_result"
    }
   ],
   "source": [
    "y > x and y != 2"
   ]
  },
  {
   "cell_type": "code",
   "execution_count": 39,
   "id": "80796d30-8667-4e51-8693-8e652d6697be",
   "metadata": {},
   "outputs": [
    {
     "data": {
      "text/plain": [
       "6.909090909090909"
      ]
     },
     "execution_count": 39,
     "metadata": {},
     "output_type": "execute_result"
    }
   ],
   "source": [
    "y/x"
   ]
  },
  {
   "cell_type": "code",
   "execution_count": 40,
   "id": "e76dee6e-2b1c-4d23-9236-0049514c3d42",
   "metadata": {},
   "outputs": [
    {
     "data": {
      "text/plain": [
       "6"
      ]
     },
     "execution_count": 40,
     "metadata": {},
     "output_type": "execute_result"
    }
   ],
   "source": [
    "# modulus\n",
    "y//x"
   ]
  },
  {
   "cell_type": "code",
   "execution_count": 41,
   "id": "a9c71454-0c44-421c-aa96-1bc40e059f9b",
   "metadata": {},
   "outputs": [
    {
     "data": {
      "text/plain": [
       "60"
      ]
     },
     "execution_count": 41,
     "metadata": {},
     "output_type": "execute_result"
    }
   ],
   "source": [
    "# remainder\n",
    "y%x"
   ]
  },
  {
   "cell_type": "markdown",
   "id": "269ca5ec-cf70-4c28-9fc5-40f9c150f25e",
   "metadata": {},
   "source": [
    "## List"
   ]
  },
  {
   "cell_type": "code",
   "execution_count": 56,
   "id": "7f9afd37-ca6d-4480-b6f2-268cafe2e67a",
   "metadata": {},
   "outputs": [],
   "source": [
    "# Creating a list\n",
    "fruits = [\"apple\", \"banana\", \"cherry\"]"
   ]
  },
  {
   "cell_type": "code",
   "execution_count": 58,
   "id": "cfcc3a0e-11e0-4d16-aef8-79c6932d9cae",
   "metadata": {},
   "outputs": [],
   "source": [
    "fruits.insert(1,'mango')"
   ]
  },
  {
   "cell_type": "code",
   "execution_count": 61,
   "id": "37d91782-5e75-4abd-a787-e25a524291b7",
   "metadata": {},
   "outputs": [
    {
     "data": {
      "text/plain": [
       "4"
      ]
     },
     "execution_count": 61,
     "metadata": {},
     "output_type": "execute_result"
    }
   ],
   "source": [
    "len(fruits)"
   ]
  },
  {
   "cell_type": "code",
   "execution_count": 65,
   "id": "adc53a74-b597-4522-8f91-2a0b5823d755",
   "metadata": {},
   "outputs": [
    {
     "data": {
      "text/plain": [
       "['cherry', 'banana', 'mango', 'apple']"
      ]
     },
     "execution_count": 65,
     "metadata": {},
     "output_type": "execute_result"
    }
   ],
   "source": [
    "fruits[::-1]"
   ]
  },
  {
   "cell_type": "code",
   "execution_count": 54,
   "id": "39dac556-3db2-4a20-b2f6-c190fc477850",
   "metadata": {},
   "outputs": [
    {
     "data": {
      "text/plain": [
       "'banana'"
      ]
     },
     "execution_count": 54,
     "metadata": {},
     "output_type": "execute_result"
    }
   ],
   "source": [
    "fruits.pop(1)"
   ]
  },
  {
   "cell_type": "code",
   "execution_count": 55,
   "id": "3a4324e4-e08e-4b1c-a27c-3f634fdb7b65",
   "metadata": {},
   "outputs": [
    {
     "data": {
      "text/plain": [
       "['apple', 'cherry']"
      ]
     },
     "execution_count": 55,
     "metadata": {},
     "output_type": "execute_result"
    }
   ],
   "source": [
    "fruits"
   ]
  },
  {
   "cell_type": "code",
   "execution_count": null,
   "id": "5b63f10d-9c68-49c8-a976-90e0b835dd20",
   "metadata": {},
   "outputs": [],
   "source": [
    "# Adding an item\n",
    "fruits.append(\"orange\")\n",
    "\n",
    "# Inserting an item at index 1\n",
    "fruits.insert(1, \"mango\")\n",
    "\n",
    "# Removing an item\n",
    "fruits.remove(\"banana\")\n",
    "\n",
    "# Accessing elements\n",
    "print(\"First item:\", fruits[0])\n",
    "\n",
    "# Slicing\n",
    "print(\"First two items:\", fruits[:2])\n",
    "\n",
    "# Length of the list\n",
    "print(\"Length:\", len(fruits))\n",
    "\n",
    "# Display the final list\n",
    "print(\"Updated list:\", fruits)"
   ]
  },
  {
   "cell_type": "code",
   "execution_count": null,
   "id": "9b35b1b5-afa3-4c90-943d-04fbe22d9b20",
   "metadata": {},
   "outputs": [],
   "source": [
    "# Basic slicing examples\n",
    "text = \"Python\"\n",
    "\n",
    "print(\"text[:]       =>\", text[:])       # Copy the whole sequence\n",
    "print(\"text[0:2]     =>\", text[0:2])     # Subsequence from index 0 to 1\n",
    "print(\"text[2:]      =>\", text[2:])      # From index 2 to the end\n",
    "print(\"text[:4]      =>\", text[:4])      # From beginning to index 3\n",
    "print(\"text[::]      =>\", text[::])      # Full copy (same as [:])\n",
    "print(\"text[::2]     =>\", text[::2])     # Every second character\n",
    "print(\"text[::-1]    =>\", text[::-1])    # Reverse the sequence"
   ]
  },
  {
   "cell_type": "code",
   "execution_count": 66,
   "id": "dfd77b50-8275-4eae-ae0a-583fa22f1fa3",
   "metadata": {},
   "outputs": [],
   "source": [
    "# Creating tuples\n",
    "t1 = (1, 2, 3)\n",
    "t2 = 4, 5, 6           # parentheses optional\n",
    "\n",
    "\n"
   ]
  },
  {
   "cell_type": "code",
   "execution_count": 67,
   "id": "b77d0999-dcb6-48c1-b9e2-2d78561229e8",
   "metadata": {},
   "outputs": [
    {
     "name": "stdout",
     "output_type": "stream",
     "text": [
      "t1: (1, 2, 3)\n"
     ]
    }
   ],
   "source": [
    "print(\"t1:\", t1)"
   ]
  },
  {
   "cell_type": "code",
   "execution_count": 68,
   "id": "6ad50171-43d4-4ea3-bb71-d43043897a79",
   "metadata": {},
   "outputs": [
    {
     "name": "stdout",
     "output_type": "stream",
     "text": [
      "t2: (4, 5, 6)\n"
     ]
    }
   ],
   "source": [
    "print(\"t2:\", t2)"
   ]
  },
  {
   "cell_type": "code",
   "execution_count": 72,
   "id": "300da965-3301-4be7-b7ee-25f67d829c43",
   "metadata": {},
   "outputs": [],
   "source": [
    "single = (42,) "
   ]
  },
  {
   "cell_type": "code",
   "execution_count": 73,
   "id": "9b752b07-af97-4b61-a0e5-a536052c9690",
   "metadata": {},
   "outputs": [
    {
     "data": {
      "text/plain": [
       "(42,)"
      ]
     },
     "execution_count": 73,
     "metadata": {},
     "output_type": "execute_result"
    }
   ],
   "source": [
    "single"
   ]
  },
  {
   "cell_type": "code",
   "execution_count": 74,
   "id": "58626bda-51ab-45f0-b075-a13e1a15eb54",
   "metadata": {},
   "outputs": [],
   "source": [
    "empty = ()"
   ]
  },
  {
   "cell_type": "code",
   "execution_count": 75,
   "id": "bf7c69ca-f866-4fe9-b7bf-e676e4c6951f",
   "metadata": {},
   "outputs": [
    {
     "data": {
      "text/plain": [
       "tuple"
      ]
     },
     "execution_count": 75,
     "metadata": {},
     "output_type": "execute_result"
    }
   ],
   "source": [
    "type(empty)"
   ]
  },
  {
   "cell_type": "code",
   "execution_count": null,
   "id": "df9d26db-9c98-46dc-b628-eae761b54b4a",
   "metadata": {},
   "outputs": [],
   "source": [
    "# Indexing and slicing\n",
    "print(\"t1[0]:\", t1[0])\n",
    "print(\"t1[-1]:\", t1[-1])\n",
    "print(\"t1[1:3]:\", t1[1:3])\n",
    "\n",
    "# Tuple unpacking\n",
    "x, y, z = t1\n",
    "print(\"Unpacked:\", x, y, z)\n",
    "\n",
    "# Concatenation and repetition\n",
    "print(\"t1 + t2:\", t1 + t2)\n",
    "print(\"t1 * 2:\", t1 * 2)\n",
    "\n",
    "# Membership test\n",
    "print(\"2 in t1:\", 2 in t1)\n",
    "print(\"99 in t1:\", 99 in t1)\n",
    "\n",
    "# Nested tuple with mutable object\n",
    "nested = (1, [10, 20], 3)\n",
    "print(\"Before:\", nested)\n",
    "nested[1].append(30)   # allowed because list is mutable\n",
    "print(\"After:\", nested)\n",
    "\n",
    "# Length of tuple\n",
    "print(\"Length of t1:\", len(t1))"
   ]
  },
  {
   "cell_type": "code",
   "execution_count": null,
   "id": "f6a95ac0-9ae5-4af9-b791-cc359a555dfd",
   "metadata": {},
   "outputs": [],
   "source": [
    "# set(a difference b) = numbers in a but not in b\n",
    "# set(b difference a) = numbers in b but not in a"
   ]
  },
  {
   "cell_type": "code",
   "execution_count": 76,
   "id": "1d03aae9-9601-4192-b702-8a900900cb9c",
   "metadata": {},
   "outputs": [
    {
     "name": "stdout",
     "output_type": "stream",
     "text": [
      "Initial: {'name': 'Alice', 'age': 30}\n"
     ]
    }
   ],
   "source": [
    "# Creating a dictionary\n",
    "person = {\"name\": \"Alice\", \"age\": 30}\n",
    "print(\"Initial:\", person)\n",
    "\n"
   ]
  },
  {
   "cell_type": "code",
   "execution_count": 77,
   "id": "7045d014-dc5f-4ae8-ac7c-587b4c1e1621",
   "metadata": {},
   "outputs": [
    {
     "data": {
      "text/plain": [
       "dict_items([('name', 'Alice'), ('age', 30)])"
      ]
     },
     "execution_count": 77,
     "metadata": {},
     "output_type": "execute_result"
    }
   ],
   "source": [
    "person.items()"
   ]
  },
  {
   "cell_type": "code",
   "execution_count": null,
   "id": "b7147bff-37c6-47dd-ac4d-2dd72d47070a",
   "metadata": {},
   "outputs": [],
   "source": []
  },
  {
   "cell_type": "code",
   "execution_count": null,
   "id": "cc2cc712-1d63-4200-a1f5-d273c941256e",
   "metadata": {},
   "outputs": [],
   "source": [
    "# Accessing values\n",
    "print(\"Name:\", person[\"name\"])\n",
    "\n",
    "# Updating a value\n",
    "person[\"age\"] = 31\n",
    "\n",
    "# Adding a new key-value pair\n",
    "person[\"city\"] = \"Kuala Lumpur\"\n",
    "print(\"After update:\", person)\n",
    "\n",
    "# Getting keys, values, items\n",
    "print(\"Keys:\", list(person.keys()))\n",
    "print(\"Values:\", list(person.values()))\n",
    "print(\"Items:\", list(person.items()))\n",
    "\n",
    "# Membership test\n",
    "print(\"Has 'age'?\", \"age\" in person)\n",
    "print(\"Has 'salary'?\", \"salary\" in person)\n",
    "\n",
    "# Removing a key\n",
    "del person[\"city\"]\n",
    "print(\"After removing city:\", person)\n",
    "\n",
    "# Using pop with default\n",
    "age = person.pop(\"age\", None)\n",
    "print(\"Popped age:\", age)\n",
    "print(\"After pop:\", person)"
   ]
  },
  {
   "cell_type": "code",
   "execution_count": 80,
   "id": "804e4c9a-343b-4e2a-8f0c-d9eb040e9d78",
   "metadata": {},
   "outputs": [
    {
     "name": "stdout",
     "output_type": "stream",
     "text": [
      "1\n",
      "2\n"
     ]
    }
   ],
   "source": [
    "i = 0\n",
    "while i in range(0,2):\n",
    "    i = i + 1\n",
    "    print(i)\n",
    "    "
   ]
  },
  {
   "cell_type": "code",
   "execution_count": 91,
   "id": "9a4f453f-2a6f-4be2-a293-7a29df35452b",
   "metadata": {},
   "outputs": [],
   "source": [
    "def greet(name):\n",
    "    # code block\n",
    "    name = str(name)\n",
    "    return f\"Hello {name}\""
   ]
  },
  {
   "cell_type": "code",
   "execution_count": 94,
   "id": "aa3d6ce3-0ec0-4204-8167-ae7642d9d023",
   "metadata": {},
   "outputs": [
    {
     "data": {
      "text/plain": [
       "'Hello abc'"
      ]
     },
     "execution_count": 94,
     "metadata": {},
     "output_type": "execute_result"
    }
   ],
   "source": [
    "greet('abc')"
   ]
  },
  {
   "cell_type": "code",
   "execution_count": 101,
   "id": "34e4c972-8847-4af3-8b61-47043ed6f4df",
   "metadata": {},
   "outputs": [],
   "source": [
    "from datetime import datetime, date, time, timedelta"
   ]
  },
  {
   "cell_type": "code",
   "execution_count": 102,
   "id": "089db305-ab63-4aa4-ad34-a2cdf8a1529c",
   "metadata": {},
   "outputs": [],
   "source": [
    "\n",
    "now = datetime.now()\n"
   ]
  },
  {
   "cell_type": "code",
   "execution_count": 104,
   "id": "a0a3f0ec-1e65-424e-9164-afe4c5359913",
   "metadata": {},
   "outputs": [
    {
     "name": "stdout",
     "output_type": "stream",
     "text": [
      "2025-09-29 12:39:41\n",
      "2025\n"
     ]
    }
   ],
   "source": [
    "print(now.strftime(\"%Y-%m-%d %H:%M:%S\"))\n",
    "print(now.strftime(\"%Y\"))"
   ]
  },
  {
   "cell_type": "code",
   "execution_count": 106,
   "id": "c7ab6137-1613-4000-81af-90da250da032",
   "metadata": {},
   "outputs": [
    {
     "name": "stdin",
     "output_type": "stream",
     "text": [
      "Enter your name:  abc\n"
     ]
    },
    {
     "name": "stdout",
     "output_type": "stream",
     "text": [
      "Hello, abc\n",
      "Hello, abc\n"
     ]
    }
   ],
   "source": [
    "name = input(\"Enter your name: \")\n",
    "print(\"Hello,\", name)\n",
    "print(f\"Hello, {name}\")"
   ]
  },
  {
   "cell_type": "code",
   "execution_count": 111,
   "id": "959c34ac-d879-4a15-8591-4aac03fa8de9",
   "metadata": {},
   "outputs": [
    {
     "name": "stdin",
     "output_type": "stream",
     "text": [
      "Enter your age:  30\n"
     ]
    }
   ],
   "source": [
    "age = int(input(\"Enter your age: \"))\n"
   ]
  },
  {
   "cell_type": "code",
   "execution_count": 112,
   "id": "b2993e4e-b465-4738-875b-ba460afe10f7",
   "metadata": {},
   "outputs": [
    {
     "data": {
      "text/plain": [
       "int"
      ]
     },
     "execution_count": 112,
     "metadata": {},
     "output_type": "execute_result"
    }
   ],
   "source": [
    "type(age)"
   ]
  },
  {
   "cell_type": "code",
   "execution_count": null,
   "id": "171ce7c8-7658-4e62-981a-b24cd73273c0",
   "metadata": {},
   "outputs": [],
   "source": [
    "try:\n",
    "    num = int(\"abc\")\n",
    "    print(100 / num)\n",
    "except ZeroDivisionError:\n",
    "    print(\" Cannot divide by zero!\")\n",
    "except ValueError:\n",
    "    print(\" Invalid number format!\")"
   ]
  },
  {
   "cell_type": "code",
   "execution_count": 114,
   "id": "e3eed9cb-7d35-4896-8561-b08f5e91f89d",
   "metadata": {},
   "outputs": [
    {
     "ename": "FileNotFoundError",
     "evalue": "[Errno 2] No such file or directory: 'data.txt'",
     "output_type": "error",
     "traceback": [
      "\u001b[1;31m---------------------------------------------------------------------------\u001b[0m",
      "\u001b[1;31mFileNotFoundError\u001b[0m                         Traceback (most recent call last)",
      "Cell \u001b[1;32mIn[114], line 1\u001b[0m\n\u001b[1;32m----> 1\u001b[0m file \u001b[38;5;241m=\u001b[39m \u001b[38;5;28mopen\u001b[39m(\u001b[38;5;124m\"\u001b[39m\u001b[38;5;124mdata.txt\u001b[39m\u001b[38;5;124m\"\u001b[39m)\n",
      "File \u001b[1;32mC:\\ProgramData\\anaconda3\\Lib\\site-packages\\IPython\\core\\interactiveshell.py:324\u001b[0m, in \u001b[0;36m_modified_open\u001b[1;34m(file, *args, **kwargs)\u001b[0m\n\u001b[0;32m    317\u001b[0m \u001b[38;5;28;01mif\u001b[39;00m file \u001b[38;5;129;01min\u001b[39;00m {\u001b[38;5;241m0\u001b[39m, \u001b[38;5;241m1\u001b[39m, \u001b[38;5;241m2\u001b[39m}:\n\u001b[0;32m    318\u001b[0m     \u001b[38;5;28;01mraise\u001b[39;00m \u001b[38;5;167;01mValueError\u001b[39;00m(\n\u001b[0;32m    319\u001b[0m         \u001b[38;5;124mf\u001b[39m\u001b[38;5;124m\"\u001b[39m\u001b[38;5;124mIPython won\u001b[39m\u001b[38;5;124m'\u001b[39m\u001b[38;5;124mt let you open fd=\u001b[39m\u001b[38;5;132;01m{\u001b[39;00mfile\u001b[38;5;132;01m}\u001b[39;00m\u001b[38;5;124m by default \u001b[39m\u001b[38;5;124m\"\u001b[39m\n\u001b[0;32m    320\u001b[0m         \u001b[38;5;124m\"\u001b[39m\u001b[38;5;124mas it is likely to crash IPython. If you know what you are doing, \u001b[39m\u001b[38;5;124m\"\u001b[39m\n\u001b[0;32m    321\u001b[0m         \u001b[38;5;124m\"\u001b[39m\u001b[38;5;124myou can use builtins\u001b[39m\u001b[38;5;124m'\u001b[39m\u001b[38;5;124m open.\u001b[39m\u001b[38;5;124m\"\u001b[39m\n\u001b[0;32m    322\u001b[0m     )\n\u001b[1;32m--> 324\u001b[0m \u001b[38;5;28;01mreturn\u001b[39;00m io_open(file, \u001b[38;5;241m*\u001b[39margs, \u001b[38;5;241m*\u001b[39m\u001b[38;5;241m*\u001b[39mkwargs)\n",
      "\u001b[1;31mFileNotFoundError\u001b[0m: [Errno 2] No such file or directory: 'data.txt'"
     ]
    }
   ],
   "source": [
    "file = open(\"data.txt\")"
   ]
  },
  {
   "cell_type": "code",
   "execution_count": 115,
   "id": "6cee64e4-1e0b-4f12-9aed-b210c902d6c2",
   "metadata": {},
   "outputs": [
    {
     "name": "stdout",
     "output_type": "stream",
     "text": [
      " File not found!\n",
      " Closing resources (if open).\n"
     ]
    }
   ],
   "source": [
    "try:\n",
    "    file = open(\"data.txt\")\n",
    "    print(file.read())\n",
    "except FileNotFoundError:\n",
    "    print(\" File not found!\")\n",
    "finally:\n",
    "    print(\" Closing resources (if open).\")"
   ]
  },
  {
   "cell_type": "code",
   "execution_count": 116,
   "id": "28fcbbb3-8bc2-4084-91de-74d6ae7509a3",
   "metadata": {},
   "outputs": [
    {
     "name": "stdout",
     "output_type": "stream",
     "text": [
      "⚠️ Something went wrong: name 'risky_code' is not defined\n"
     ]
    }
   ],
   "source": [
    "try:\n",
    "    risky_code()\n",
    "except Exception as e:\n",
    "    print(\"⚠️ Something went wrong:\", e)"
   ]
  },
  {
   "cell_type": "code",
   "execution_count": 117,
   "id": "e742eaa7-9ece-49cb-8536-2681b0c39fe4",
   "metadata": {},
   "outputs": [],
   "source": [
    "count = 0\n",
    "\n",
    "def update():\n",
    "    count += 1  # Error! Python thinks count is local\n",
    "    print(count)"
   ]
  },
  {
   "cell_type": "code",
   "execution_count": 118,
   "id": "c70f985d-9f9d-4d32-b695-395e373d2942",
   "metadata": {},
   "outputs": [
    {
     "ename": "UnboundLocalError",
     "evalue": "cannot access local variable 'count' where it is not associated with a value",
     "output_type": "error",
     "traceback": [
      "\u001b[1;31m---------------------------------------------------------------------------\u001b[0m",
      "\u001b[1;31mUnboundLocalError\u001b[0m                         Traceback (most recent call last)",
      "Cell \u001b[1;32mIn[118], line 1\u001b[0m\n\u001b[1;32m----> 1\u001b[0m update()\n",
      "Cell \u001b[1;32mIn[117], line 4\u001b[0m, in \u001b[0;36mupdate\u001b[1;34m()\u001b[0m\n\u001b[0;32m      3\u001b[0m \u001b[38;5;28;01mdef\u001b[39;00m\u001b[38;5;250m \u001b[39m\u001b[38;5;21mupdate\u001b[39m():\n\u001b[1;32m----> 4\u001b[0m     count \u001b[38;5;241m+\u001b[39m\u001b[38;5;241m=\u001b[39m \u001b[38;5;241m1\u001b[39m  \u001b[38;5;66;03m# Error! Python thinks count is local\u001b[39;00m\n\u001b[0;32m      5\u001b[0m     \u001b[38;5;28mprint\u001b[39m(count)\n",
      "\u001b[1;31mUnboundLocalError\u001b[0m: cannot access local variable 'count' where it is not associated with a value"
     ]
    }
   ],
   "source": [
    "update()"
   ]
  },
  {
   "cell_type": "code",
   "execution_count": 119,
   "id": "e6a56b0c-034f-439b-be1e-938d5d316e54",
   "metadata": {},
   "outputs": [],
   "source": [
    "f = open(\"data\\myfile.txt\", \"a\")\n",
    "f.write(\"\\nMore text.\")  # Appends without erasing content\n",
    "f.close()"
   ]
  },
  {
   "cell_type": "code",
   "execution_count": 121,
   "id": "4e9374a8-06d6-4a71-8063-f7ba23e8e799",
   "metadata": {},
   "outputs": [],
   "source": [
    "f = open(\"data/newfile.txt\", \"x\")\n",
    "f.write(\"This is a new file.\")  # Only works if file does not exist\n",
    "f.close()"
   ]
  },
  {
   "cell_type": "code",
   "execution_count": 122,
   "id": "7b42557a-69f6-4238-8e6b-bb19dafb2046",
   "metadata": {},
   "outputs": [
    {
     "name": "stdout",
     "output_type": "stream",
     "text": [
      "Contents of data\\myfile.txt:\n",
      "Lorem ipsum dolor sit amet, consectetur adipiscing elit. Nunc ac leo euismod, eleifend lorem a, fringilla neque. Suspendisse consectetur sapien at congue suscipit. Morbi nisi est, ornare et lacinia in, finibus sed diam. Duis semper vel felis in tempus. In et cursus nibh. Nullam accumsan ante elit, accumsan malesuada mauris faucibus nec. Mauris faucibus ornare neque, non viverra dui posuere non. Donec feugiat neque id eros tristique ornare. Duis vel nisi quam. In vehicula urna non elit hendrerit, volutpat gravida lectus faucibus. Nunc tempus malesuada turpis, sagittis suscipit odio maximus nec. Sed eu pharetra sapien. Fusce convallis ipsum quis rutrum dignissim. Duis dictum, magna eget porta vulputate, ipsum ligula mollis neque, et egestas nisl nulla dictum tellus. Ut sed libero dolor.\n",
      "More text.\n",
      "Contents of data\\newfile.txt:\n",
      "This is a new file.\n"
     ]
    }
   ],
   "source": [
    "import glob\n",
    "files = glob.glob(\"data/*.txt\")\n",
    "\n",
    "for file in files:\n",
    "    with open(file, \"r\") as f:\n",
    "        print(f\"Contents of {file}:\")\n",
    "        print(f.read())"
   ]
  },
  {
   "cell_type": "code",
   "execution_count": 124,
   "id": "c86bc9fc-e2ff-4366-b3f6-79fecbf70e66",
   "metadata": {},
   "outputs": [
    {
     "name": "stdout",
     "output_type": "stream",
     "text": [
      "['alice@example.com', 'bob@domain.org']\n"
     ]
    }
   ],
   "source": [
    "import re\n",
    "text = \"Contact: alice@example.com, bob@domain.org,myname\"\n",
    "emails = re.findall(r\"[\\w.-]+@[\\w.-]+\", text)\n",
    "print(emails)  # Extracts all emails"
   ]
  },
  {
   "cell_type": "code",
   "execution_count": 127,
   "id": "ce58a72d-be56-45c2-bf8d-54d5d7861340",
   "metadata": {},
   "outputs": [
    {
     "name": "stdout",
     "output_type": "stream",
     "text": [
      "Zeros (2x3):\n",
      " [[[0. 0. 0.]\n",
      "  [0. 0. 0.]]\n",
      "\n",
      " [[0. 0. 0.]\n",
      "  [0. 0. 0.]]]\n"
     ]
    }
   ],
   "source": [
    "import numpy as np\n",
    "print(\"Zeros (2x3):\\n\", np.zeros((2,2, 3)))\n"
   ]
  },
  {
   "cell_type": "code",
   "execution_count": null,
   "id": "d726487c-cf19-4463-bd49-70fdad7f23ee",
   "metadata": {},
   "outputs": [],
   "source": []
  }
 ],
 "metadata": {
  "kernelspec": {
   "display_name": "Python 3 (ipykernel)",
   "language": "python",
   "name": "python3"
  },
  "language_info": {
   "codemirror_mode": {
    "name": "ipython",
    "version": 3
   },
   "file_extension": ".py",
   "mimetype": "text/x-python",
   "name": "python",
   "nbconvert_exporter": "python",
   "pygments_lexer": "ipython3",
   "version": "3.13.5"
  }
 },
 "nbformat": 4,
 "nbformat_minor": 5
}
